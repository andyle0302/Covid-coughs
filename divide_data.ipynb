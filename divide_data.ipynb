{
  "nbformat": 4,
  "nbformat_minor": 0,
  "metadata": {
    "colab": {
      "name": "divide_data.ipynb",
      "provenance": [],
      "mount_file_id": "1bWt0hLlLgESqG_8iJ9HHMrmrELqZuyYt",
      "authorship_tag": "ABX9TyN0XAFybY7k01Bir7WDtNGH",
      "include_colab_link": true
    },
    "kernelspec": {
      "name": "python3",
      "display_name": "Python 3"
    },
    "language_info": {
      "name": "python"
    }
  },
  "cells": [
    {
      "cell_type": "markdown",
      "metadata": {
        "id": "view-in-github",
        "colab_type": "text"
      },
      "source": [
        "<a href=\"https://colab.research.google.com/github/qtuter1997/Covid-coughs/blob/main/divide_data.ipynb\" target=\"_parent\"><img src=\"https://colab.research.google.com/assets/colab-badge.svg\" alt=\"Open In Colab\"/></a>"
      ]
    },
    {
      "cell_type": "code",
      "metadata": {
        "id": "DdnSi46WZgLX",
        "colab": {
          "base_uri": "https://localhost:8080/"
        },
        "outputId": "60ba4f02-5ad8-4939-fa69-e324b55b4057"
      },
      "source": [
        "cd /content/drive/MyDrive/Colab Notebooks/AICovidVN 115M Challenge_ Covid Cough Detection Challenge results/dataset"
      ],
      "execution_count": null,
      "outputs": [
        {
          "output_type": "stream",
          "text": [
            "/content/drive/MyDrive/Colab Notebooks/AICovidVN 115M Challenge_ Covid Cough Detection Challenge results/dataset\n"
          ],
          "name": "stdout"
        }
      ]
    },
    {
      "cell_type": "code",
      "metadata": {
        "id": "xQPcRYlKXyqe"
      },
      "source": [
        "import numpy as np\n",
        "import pandas as pd\n",
        "import os\n",
        "import shutil\n",
        "from tqdm import tqdm"
      ],
      "execution_count": null,
      "outputs": []
    },
    {
      "cell_type": "code",
      "metadata": {
        "id": "jIhJMWPjZePO",
        "colab": {
          "base_uri": "https://localhost:8080/"
        },
        "outputId": "b347a945-c816-476f-90d2-40b905b99c13"
      },
      "source": [
        "ls"
      ],
      "execution_count": null,
      "outputs": [
        {
          "output_type": "stream",
          "text": [
            "\u001b[0m\u001b[01;34maicv115m_public_test\u001b[0m/     \u001b[01;34maicv115m_public_train\u001b[0m/     \u001b[01;34m__MACOSX\u001b[0m/\n",
            "aicv115m_public_test.zip  aicv115m_public_train.zip  \u001b[01;34mspecgrams\u001b[0m/\n"
          ],
          "name": "stdout"
        }
      ]
    },
    {
      "cell_type": "code",
      "metadata": {
        "id": "JXzjC7SuuCEI"
      },
      "source": [
        "train_audio_file = 'aicv115m_public_train/train_audio_files_8k/'\n",
        "train_df = pd.read_csv('aicv115m_public_train/data_train_new.csv')\n",
        "\n",
        "covid_path = 'aicv115m_public_train/covid/'\n",
        "healthy_path = 'aicv115m_public_train/healthy/'"
      ],
      "execution_count": null,
      "outputs": []
    },
    {
      "cell_type": "code",
      "metadata": {
        "colab": {
          "base_uri": "https://localhost:8080/"
        },
        "id": "F_c9k2IIuxps",
        "outputId": "deca5d2f-0f7a-4c11-83d6-f4ec70ca3233"
      },
      "source": [
        "if not os.path.exists(covid_path):\n",
        "  os.mkdir(covid_path)\n",
        "  os.mkdir(healthy_path)\n",
        "\n",
        "folder_path = os.listdir(train_audio_file)\n",
        "\n",
        "for index, fl in tqdm(enumerate(folder_path)):\n",
        "  if train_df['assessment_result'][index]==1:\n",
        "    shutil.copy(train_audio_file + fl, covid_path)\n",
        "  else:\n",
        "    shutil.copy(train_audio_file + fl, healthy_path)\n",
        "# shutil.copy()"
      ],
      "execution_count": null,
      "outputs": [
        {
          "output_type": "stream",
          "text": [
            "1199it [06:28,  3.08it/s]\n"
          ],
          "name": "stderr"
        }
      ]
    },
    {
      "cell_type": "code",
      "metadata": {
        "colab": {
          "base_uri": "https://localhost:8080/"
        },
        "id": "aG6xsJRORvTh",
        "outputId": "cbc9abbb-b5de-478f-a3c4-53519b185777"
      },
      "source": [
        "len(os.listdir(covid_path))"
      ],
      "execution_count": null,
      "outputs": [
        {
          "output_type": "execute_result",
          "data": {
            "text/plain": [
              "463"
            ]
          },
          "metadata": {
            "tags": []
          },
          "execution_count": 21
        }
      ]
    },
    {
      "cell_type": "code",
      "metadata": {
        "colab": {
          "base_uri": "https://localhost:8080/"
        },
        "id": "-j1x9edib_NU",
        "outputId": "4a730702-2af6-48b8-8341-76156fbaa214"
      },
      "source": [
        "len(os.listdir(healthy_path))"
      ],
      "execution_count": null,
      "outputs": [
        {
          "output_type": "execute_result",
          "data": {
            "text/plain": [
              "737"
            ]
          },
          "metadata": {
            "tags": []
          },
          "execution_count": 22
        }
      ]
    },
    {
      "cell_type": "code",
      "metadata": {
        "colab": {
          "base_uri": "https://localhost:8080/"
        },
        "id": "qpeafDmFcDCD",
        "outputId": "6e2a9563-ee96-4149-d696-cfe19133fac6"
      },
      "source": [
        "train_df.info()"
      ],
      "execution_count": null,
      "outputs": [
        {
          "output_type": "stream",
          "text": [
            "<class 'pandas.core.frame.DataFrame'>\n",
            "RangeIndex: 1199 entries, 0 to 1198\n",
            "Data columns (total 5 columns):\n",
            " #   Column             Non-Null Count  Dtype  \n",
            "---  ------             --------------  -----  \n",
            " 0   Unnamed: 0         1199 non-null   int64  \n",
            " 1   uuid               1199 non-null   object \n",
            " 2   assessment_result  1199 non-null   int64  \n",
            " 3   file_path          1199 non-null   object \n",
            " 4   duration           1199 non-null   float64\n",
            "dtypes: float64(1), int64(2), object(2)\n",
            "memory usage: 47.0+ KB\n"
          ],
          "name": "stdout"
        }
      ]
    },
    {
      "cell_type": "code",
      "metadata": {
        "id": "fE0BDpgxcHdY"
      },
      "source": [
        ""
      ],
      "execution_count": null,
      "outputs": []
    }
  ]
}