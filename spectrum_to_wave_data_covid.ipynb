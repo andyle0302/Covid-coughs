{
  "nbformat": 4,
  "nbformat_minor": 0,
  "metadata": {
    "colab": {
      "name": "spectrum_to_wave_data_covid.ipynb",
      "provenance": [],
      "mount_file_id": "1jJ2TJOuswDlI-etTBIukIaymyrVPPK_6",
      "authorship_tag": "ABX9TyPxvYJI8l2usjkyoKf3inhE",
      "include_colab_link": true
    },
    "kernelspec": {
      "name": "python3",
      "display_name": "Python 3"
    },
    "language_info": {
      "name": "python"
    }
  },
  "cells": [
    {
      "cell_type": "markdown",
      "metadata": {
        "id": "view-in-github",
        "colab_type": "text"
      },
      "source": [
        "<a href=\"https://colab.research.google.com/github/qtuter1997/Covid-coughs/blob/main/spectrum_to_wave_data_covid.ipynb\" target=\"_parent\"><img src=\"https://colab.research.google.com/assets/colab-badge.svg\" alt=\"Open In Colab\"/></a>"
      ]
    },
    {
      "cell_type": "code",
      "metadata": {
        "colab": {
          "base_uri": "https://localhost:8080/"
        },
        "id": "Zny5ekBfjO3Y",
        "outputId": "7cd23777-a8da-4ed7-a5bf-4c4d3ec3980d"
      },
      "source": [
        "cd /content/drive/MyDrive/Colab Notebooks/AICovidVN 115M Challenge_ Covid Cough Detection Challenge results"
      ],
      "execution_count": 18,
      "outputs": [
        {
          "output_type": "stream",
          "text": [
            "/content/drive/MyDrive/Colab Notebooks/AICovidVN 115M Challenge_ Covid Cough Detection Challenge results\n"
          ],
          "name": "stdout"
        }
      ]
    },
    {
      "cell_type": "code",
      "metadata": {
        "colab": {
          "base_uri": "https://localhost:8080/"
        },
        "id": "t31ngrlUdU09",
        "outputId": "d728d9c7-867f-40d8-e964-8b5a87341541"
      },
      "source": [
        "pip install torchaudio"
      ],
      "execution_count": 19,
      "outputs": [
        {
          "output_type": "stream",
          "text": [
            "Collecting torchaudio\n",
            "\u001b[?25l  Downloading https://files.pythonhosted.org/packages/a8/20/eab40caad8f4b97f5e91a5de8ba5ec29115e08fa4c9a808725490b7b4844/torchaudio-0.9.0-cp37-cp37m-manylinux1_x86_64.whl (1.9MB)\n",
            "\u001b[K     |████████████████████████████████| 1.9MB 5.2MB/s \n",
            "\u001b[?25hRequirement already satisfied: torch==1.9.0 in /usr/local/lib/python3.7/dist-packages (from torchaudio) (1.9.0+cu102)\n",
            "Requirement already satisfied: typing-extensions in /usr/local/lib/python3.7/dist-packages (from torch==1.9.0->torchaudio) (3.7.4.3)\n",
            "Installing collected packages: torchaudio\n",
            "Successfully installed torchaudio-0.9.0\n"
          ],
          "name": "stdout"
        }
      ]
    },
    {
      "cell_type": "code",
      "metadata": {
        "id": "O_Zh5N08XceX"
      },
      "source": [
        "import numpy as np\n",
        "import torch.nn as nn\n",
        "import torch.nn.functional as F\n",
        "import torch.optim as optim\n",
        "import torchaudio\n",
        "import torchvision \n",
        "from tqdm import tqdm\n",
        "from torch.utils.data import DataLoader\n",
        "import matplotlib.pyplot as plt\n",
        "import os\n",
        "import soundfile as sf\n",
        "import pandas as pd\n",
        "import torch"
      ],
      "execution_count": 20,
      "outputs": []
    },
    {
      "cell_type": "code",
      "metadata": {
        "colab": {
          "base_uri": "https://localhost:8080/"
        },
        "id": "a4SnuWqej1ts",
        "outputId": "c37088eb-2344-48e2-c830-bd6aedca7956"
      },
      "source": [
        "cd dataset"
      ],
      "execution_count": 21,
      "outputs": [
        {
          "output_type": "stream",
          "text": [
            "/content/drive/MyDrive/Colab Notebooks/AICovidVN 115M Challenge_ Covid Cough Detection Challenge results/dataset\n"
          ],
          "name": "stdout"
        }
      ]
    },
    {
      "cell_type": "code",
      "metadata": {
        "id": "nhjm0GB5j8HA"
      },
      "source": [
        "train_audio_file = 'aicv115m_public_train/train_audio_files_8k/'\n",
        "test_audio_file = 'aicv115m_public_test/public_test_audio_files_8k/'\n",
        "\n",
        "data_frame_train = pd.read_csv('aicv115m_public_train/data_train_new.csv')\n",
        "data_frame_test = pd.read_csv('aicv115m_public_test/metadata_public_test.csv')"
      ],
      "execution_count": 22,
      "outputs": []
    },
    {
      "cell_type": "code",
      "metadata": {
        "colab": {
          "base_uri": "https://localhost:8080/",
          "height": 203
        },
        "id": "O3T8tfSJQQYa",
        "outputId": "06e06192-24ed-4b44-bb9d-10b144d822f8"
      },
      "source": [
        "data_frame_train.head()"
      ],
      "execution_count": 23,
      "outputs": [
        {
          "output_type": "execute_result",
          "data": {
            "text/html": [
              "<div>\n",
              "<style scoped>\n",
              "    .dataframe tbody tr th:only-of-type {\n",
              "        vertical-align: middle;\n",
              "    }\n",
              "\n",
              "    .dataframe tbody tr th {\n",
              "        vertical-align: top;\n",
              "    }\n",
              "\n",
              "    .dataframe thead th {\n",
              "        text-align: right;\n",
              "    }\n",
              "</style>\n",
              "<table border=\"1\" class=\"dataframe\">\n",
              "  <thead>\n",
              "    <tr style=\"text-align: right;\">\n",
              "      <th></th>\n",
              "      <th>Unnamed: 0</th>\n",
              "      <th>uuid</th>\n",
              "      <th>assessment_result</th>\n",
              "      <th>file_path</th>\n",
              "      <th>duration</th>\n",
              "    </tr>\n",
              "  </thead>\n",
              "  <tbody>\n",
              "    <tr>\n",
              "      <th>0</th>\n",
              "      <td>0</td>\n",
              "      <td>3284bcf1-2446-4f3a-ac66-14c76b294177</td>\n",
              "      <td>0</td>\n",
              "      <td>3284bcf1-2446-4f3a-ac66-14c76b294177.wav</td>\n",
              "      <td>5.717415</td>\n",
              "    </tr>\n",
              "    <tr>\n",
              "      <th>1</th>\n",
              "      <td>1</td>\n",
              "      <td>431334e1-5946-4576-bb51-8e342ccc22b4</td>\n",
              "      <td>0</td>\n",
              "      <td>431334e1-5946-4576-bb51-8e342ccc22b4.wav</td>\n",
              "      <td>9.780000</td>\n",
              "    </tr>\n",
              "    <tr>\n",
              "      <th>2</th>\n",
              "      <td>2</td>\n",
              "      <td>1d6fac4b-1e7f-4bdc-81cd-3a720bfbb1e1</td>\n",
              "      <td>0</td>\n",
              "      <td>1d6fac4b-1e7f-4bdc-81cd-3a720bfbb1e1.wav</td>\n",
              "      <td>2.280000</td>\n",
              "    </tr>\n",
              "    <tr>\n",
              "      <th>3</th>\n",
              "      <td>3</td>\n",
              "      <td>c7ee0695-b2e7-4beb-b904-f1455c9609d9</td>\n",
              "      <td>0</td>\n",
              "      <td>c7ee0695-b2e7-4beb-b904-f1455c9609d9.wav</td>\n",
              "      <td>4.272517</td>\n",
              "    </tr>\n",
              "    <tr>\n",
              "      <th>4</th>\n",
              "      <td>4</td>\n",
              "      <td>dd541704-b696-4181-8fd8-816daac0fcf9</td>\n",
              "      <td>0</td>\n",
              "      <td>dd541704-b696-4181-8fd8-816daac0fcf9.wav</td>\n",
              "      <td>4.680000</td>\n",
              "    </tr>\n",
              "  </tbody>\n",
              "</table>\n",
              "</div>"
            ],
            "text/plain": [
              "   Unnamed: 0  ...  duration\n",
              "0           0  ...  5.717415\n",
              "1           1  ...  9.780000\n",
              "2           2  ...  2.280000\n",
              "3           3  ...  4.272517\n",
              "4           4  ...  4.680000\n",
              "\n",
              "[5 rows x 5 columns]"
            ]
          },
          "metadata": {
            "tags": []
          },
          "execution_count": 23
        }
      ]
    },
    {
      "cell_type": "code",
      "metadata": {
        "colab": {
          "base_uri": "https://localhost:8080/"
        },
        "id": "dAoT0iy3nXbb",
        "outputId": "81d4e210-b8be-48df-dabc-c73402012c05"
      },
      "source": [
        "data_frame_train.info()"
      ],
      "execution_count": 24,
      "outputs": [
        {
          "output_type": "stream",
          "text": [
            "<class 'pandas.core.frame.DataFrame'>\n",
            "RangeIndex: 1199 entries, 0 to 1198\n",
            "Data columns (total 5 columns):\n",
            " #   Column             Non-Null Count  Dtype  \n",
            "---  ------             --------------  -----  \n",
            " 0   Unnamed: 0         1199 non-null   int64  \n",
            " 1   uuid               1199 non-null   object \n",
            " 2   assessment_result  1199 non-null   int64  \n",
            " 3   file_path          1199 non-null   object \n",
            " 4   duration           1199 non-null   float64\n",
            "dtypes: float64(1), int64(2), object(2)\n",
            "memory usage: 47.0+ KB\n"
          ],
          "name": "stdout"
        }
      ]
    },
    {
      "cell_type": "code",
      "metadata": {
        "id": "sybsXf2Nj0Kj"
      },
      "source": [
        "def wave_to_specgram(folder_path, category):    \n",
        "  file_list = os.listdir(folder_path)\n",
        "  dataset = torch.empty(1)\n",
        "  for file in file_list:\n",
        "    if file != '.DS_Store':\n",
        "      waveform, sample_rate = torchaudio.load(folder_path+'/'+file)\n",
        "      specgram = torchaudio.transforms.Spectrogram()(waveform)\n",
        "      specgram_resize = torchvision.transforms.Resize((600,600))(specgram)\n",
        "      plt.figure(frameon=False)\n",
        "      plt.axis('off')\n",
        "      #We add epsilon = 1e-12 in order to be able to compute the logarithm and not get NaN values in the images\n",
        "      specgram_resize += torch.ones(list(specgram_resize.shape))*1e-12\n",
        "      plt.imshow(specgram_resize.log2()[0,:,:].numpy(), cmap='gray')\n",
        "      plt.savefig('./specgrams/' + category + '/' + folder_path.split('/')[-1] + '/'\n",
        "                  + file.strip('.wav')+'.png', bbox_inches='tight',pad_inches=0)\n",
        "      plt.close()"
      ],
      "execution_count": 34,
      "outputs": []
    },
    {
      "cell_type": "code",
      "metadata": {
        "id": "1GC4Bi0ahywv"
      },
      "source": [
        "train_covid_path = 'aicv115m_public_train/covid'\n",
        "train_healthy_path = 'aicv115m_public_train/healthy'\n",
        "\n",
        "wave_to_specgram(train_covid_path, 'TRAIN')\n",
        "wave_to_specgram(train_healthy_path, 'TRAIN')"
      ],
      "execution_count": 35,
      "outputs": []
    },
    {
      "cell_type": "code",
      "metadata": {
        "id": "EDW5L4cs2EOu"
      },
      "source": [
        ""
      ],
      "execution_count": null,
      "outputs": []
    }
  ]
}